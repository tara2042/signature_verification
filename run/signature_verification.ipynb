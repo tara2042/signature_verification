{
 "cells": [
  {
   "cell_type": "markdown",
   "id": "f5f5ee3f",
   "metadata": {},
   "source": [
    "## Import all the necessary libraries "
   ]
  },
  {
   "cell_type": "code",
   "execution_count": 1,
   "id": "f7d7d3d6",
   "metadata": {},
   "outputs": [],
   "source": [
    "import numpy as np\n",
    "import pandas as pd"
   ]
  },
  {
   "cell_type": "code",
   "execution_count": 2,
   "id": "de9b309f",
   "metadata": {},
   "outputs": [],
   "source": [
    "import cv2\n",
    "import pytesseract\n",
    "import numpy as np\n",
    "from fuzzywuzzy import fuzz\n",
    "from sklearn.metrics.pairwise import cosine_similarity\n",
    "import torch\n",
    "import torch.nn as nn\n",
    "import torchvision.transforms as transforms\n",
    "from torchvision import models\n",
    "from torchvision.models import resnet18, ResNet18_Weights\n",
    "from PIL import Image"
   ]
  },
  {
   "cell_type": "code",
   "execution_count": 3,
   "id": "ef59f470",
   "metadata": {},
   "outputs": [],
   "source": [
    "class SignatureEmbedder(nn.Module):\n",
    "    def __init__(self):\n",
    "        super(SignatureEmbedder, self).__init__()\n",
    "\n",
    "        # Load pretrained ResNet with proper weights\n",
    "        weights = ResNet18_Weights.DEFAULT\n",
    "        self.model = resnet18(weights=weights)\n",
    "        self.model.fc = nn.Identity()  # Remove final classification layer\n",
    "\n",
    "    def forward(self, x):\n",
    "        return self.model(x)\n",
    "    \n",
    "def preprocess_signature(image_path):\n",
    "    img = cv2.imread(image_path, cv2.IMREAD_GRAYSCALE)\n",
    "    # Step 2: Resize to 224x224 (what ResNet expects)\n",
    "    img = cv2.resize(img, (224, 224))\n",
    "    # Step 3: Convert 1-channel grayscale to 3-channel RGB\n",
    "    img = cv2.cvtColor(img, cv2.COLOR_GRAY2RGB)\n",
    "    # Step 4: Convert to PIL Image\n",
    "    img_pil = Image.fromarray(img)\n",
    "    transform = transforms.Compose([transforms.ToTensor(),\n",
    "                                transforms.Normalize(mean=[0.5, 0.5, 0.5], \n",
    "                                                     std=[0.5, 0.5, 0.5])])\n",
    "    img_tensor = transform(img_pil).unsqueeze(0)\n",
    "    return img_tensor\n",
    "\n",
    "# Signature Comparison\n",
    "def compare_signatures(sig_path1, sig_path2, model):\n",
    "    img1 = preprocess_signature(sig_path1)\n",
    "    img2 = preprocess_signature(sig_path2)\n",
    "\n",
    "    with torch.no_grad():\n",
    "        emb1 = model(img1)\n",
    "        emb2 = model(img2)\n",
    "    similarity = cosine_similarity(emb1.numpy(), emb2.numpy())[0][0]\n",
    "    return similarity\n",
    "\n",
    "# Main Verification function\n",
    "def verify_customer(reference_signature_path, test_signature_path):\n",
    "    model = SignatureEmbedder()\n",
    "    sign_score = compare_signatures(reference_signature_path, test_signature_path, model)\n",
    "    print(f\"Signature Similarity Score: {sign_score}\")\n",
    "\n",
    "    if sign_score > 0.85:\n",
    "        print(\"✅ Signature Verified\")\n",
    "    else:\n",
    "        print(\"❌ Verification failed\")\n"
   ]
  },
  {
   "cell_type": "code",
   "execution_count": 4,
   "id": "ae977586",
   "metadata": {},
   "outputs": [
    {
     "name": "stdout",
     "output_type": "stream",
     "text": [
      "Signature Similarity Score: 0.998323917388916\n",
      "✅ Signature Verified\n"
     ]
    }
   ],
   "source": [
    "\n",
    "# Example usage\n",
    "verify_customer(\n",
    "    reference_signature_path=\"D:/signature_kyc/signature/sign_sample/signature (5).png\",\n",
    "    test_signature_path=\"D:/signature_kyc/signature/sign_sample/signature (6).png\"\n",
    ")"
   ]
  },
  {
   "cell_type": "code",
   "execution_count": 8,
   "id": "8ed81de9",
   "metadata": {},
   "outputs": [
    {
     "name": "stdout",
     "output_type": "stream",
     "text": [
      "False\n"
     ]
    }
   ],
   "source": [
    "import os\n",
    "print(os.path.exists(\"D:/signature_kyc/signaturesign_sample/signature (5).png\"))  # should return True\n"
   ]
  },
  {
   "cell_type": "code",
   "execution_count": null,
   "id": "460f6a76",
   "metadata": {},
   "outputs": [],
   "source": []
  }
 ],
 "metadata": {
  "kernelspec": {
   "display_name": "signature",
   "language": "python",
   "name": "python3"
  },
  "language_info": {
   "codemirror_mode": {
    "name": "ipython",
    "version": 3
   },
   "file_extension": ".py",
   "mimetype": "text/x-python",
   "name": "python",
   "nbconvert_exporter": "python",
   "pygments_lexer": "ipython3",
   "version": "3.13.3"
  }
 },
 "nbformat": 4,
 "nbformat_minor": 5
}
